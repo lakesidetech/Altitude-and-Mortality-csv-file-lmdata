{
  "nbformat": 4,
  "nbformat_minor": 0,
  "metadata": {
    "colab": {
      "name": "Altitude and Mortality csv file lmdate.ipynb",
      "provenance": [],
      "authorship_tag": "ABX9TyPZHaMTVFZvzPtkyBOKDWG6",
      "include_colab_link": true
    },
    "kernelspec": {
      "name": "python3",
      "display_name": "Python 3"
    },
    "language_info": {
      "name": "python"
    }
  },
  "cells": [
    {
      "cell_type": "markdown",
      "metadata": {
        "id": "view-in-github",
        "colab_type": "text"
      },
      "source": [
        "<a href=\"https://colab.research.google.com/github/lakesidetech/Altitude-and-Mortality-csv-file-lmdata/blob/main/Altitude_and_Mortality_csv_file_lmdate.ipynb\" target=\"_parent\"><img src=\"https://colab.research.google.com/assets/colab-badge.svg\" alt=\"Open In Colab\"/></a>"
      ]
    },
    {
      "cell_type": "code",
      "metadata": {
        "id": "4XNB3cMsSgbV"
      },
      "source": [
        "import pandas as pd\n",
        "from pandas import DataFrame\n",
        "import numpy as np\n",
        "import matplotlib.pyplot as plt\n",
        "import seaborn as sns\n",
        "from statsmodels.formula.api import ols\n",
        "import statsmodels.api as sm\n"
      ],
      "execution_count": null,
      "outputs": []
    },
    {
      "cell_type": "code",
      "metadata": {
        "id": "5mWPXs3PTWl4"
      },
      "source": [
        "#1: Load the data and print the column names\n",
        " \n",
        "df = pd.read_csv('/content/lmdata.csv')\n",
        "print (df)\n"
      ],
      "execution_count": null,
      "outputs": []
    },
    {
      "cell_type": "code",
      "metadata": {
        "colab": {
          "base_uri": "https://localhost:8080/"
        },
        "id": "t1SdnQCLdw_L",
        "outputId": "db133ec0-66c8-45dc-c7e8-2612eba8b388"
      },
      "source": [
        "#2: Generate descriptive statistics for the data\n",
        "import numpy as np\n",
        "from scipy.stats import scoreatpercentile\n",
        "\n",
        "data = np.loadtxt(\"/content/lmdata.csv\", delimiter=',', usecols=(1,), skiprows=1, unpack=True)\n",
        "\n",
        "print (\"Max method\", data.max())\n",
        "print (\"Max function\", np.max(data))\n",
        "\n",
        "print (\"Min method\", data.min())\n",
        "print (\"Min function\", np.min(data))\n",
        "\n",
        "print (\"Mean method\", data.mean())\n",
        "print (\"Mean function\", np.mean(data))\n",
        "\n"
      ],
      "execution_count": 8,
      "outputs": [
        {
          "output_type": "stream",
          "text": [
            "Max method 300.0\n",
            "Max function 300.0\n",
            "Min method 219.0\n",
            "Min function 219.0\n",
            "Mean method 255.25\n",
            "Mean function 255.25\n"
          ],
          "name": "stdout"
        }
      ]
    }
  ]
}