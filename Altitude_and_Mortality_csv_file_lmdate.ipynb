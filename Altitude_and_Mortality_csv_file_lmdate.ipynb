{
  "nbformat": 4,
  "nbformat_minor": 0,
  "metadata": {
    "colab": {
      "name": "Altitude and Mortality csv file lmdate.ipynb",
      "provenance": [],
      "authorship_tag": "ABX9TyPs47Qias8kGK264o339hJT",
      "include_colab_link": true
    },
    "kernelspec": {
      "name": "python3",
      "display_name": "Python 3"
    },
    "language_info": {
      "name": "python"
    }
  },
  "cells": [
    {
      "cell_type": "markdown",
      "metadata": {
        "id": "view-in-github",
        "colab_type": "text"
      },
      "source": [
        "<a href=\"https://colab.research.google.com/github/lakesidetech/Altitude-and-Mortality-csv-file-lmdata/blob/main/Altitude_and_Mortality_csv_file_lmdate.ipynb\" target=\"_parent\"><img src=\"https://colab.research.google.com/assets/colab-badge.svg\" alt=\"Open In Colab\"/></a>"
      ]
    },
    {
      "cell_type": "code",
      "metadata": {
        "id": "4XNB3cMsSgbV"
      },
      "source": [
        "import pandas as pd\n",
        "from pandas import DataFrame\n",
        "import numpy as np\n",
        "import matplotlib.pyplot as plt\n",
        "import seaborn as sns\n",
        "from statsmodels.formula.api import ols\n",
        "import statsmodels.api as sm\n"
      ],
      "execution_count": null,
      "outputs": []
    },
    {
      "cell_type": "code",
      "metadata": {
        "colab": {
          "base_uri": "https://localhost:8080/",
          "height": 284
        },
        "id": "5mWPXs3PTWl4",
        "outputId": "16c46345-39ae-4ee4-baa5-c736f3dc5082"
      },
      "source": [
        "#1: Load the data and print the column names\n",
        " \n",
        "df = pd.read_csv('/content/lmdata.csv')\n",
        "df.describe()\n",
        "#print (df)\n"
      ],
      "execution_count": 9,
      "outputs": [
        {
          "output_type": "execute_result",
          "data": {
            "text/html": [
              "<div>\n",
              "<style scoped>\n",
              "    .dataframe tbody tr th:only-of-type {\n",
              "        vertical-align: middle;\n",
              "    }\n",
              "\n",
              "    .dataframe tbody tr th {\n",
              "        vertical-align: top;\n",
              "    }\n",
              "\n",
              "    .dataframe thead th {\n",
              "        text-align: right;\n",
              "    }\n",
              "</style>\n",
              "<table border=\"1\" class=\"dataframe\">\n",
              "  <thead>\n",
              "    <tr style=\"text-align: right;\">\n",
              "      <th></th>\n",
              "      <th>latitude</th>\n",
              "      <th>mortality</th>\n",
              "    </tr>\n",
              "  </thead>\n",
              "  <tbody>\n",
              "    <tr>\n",
              "      <th>count</th>\n",
              "      <td>24.000000</td>\n",
              "      <td>24.000000</td>\n",
              "    </tr>\n",
              "    <tr>\n",
              "      <th>mean</th>\n",
              "      <td>41.458333</td>\n",
              "      <td>255.250000</td>\n",
              "    </tr>\n",
              "    <tr>\n",
              "      <th>std</th>\n",
              "      <td>4.476792</td>\n",
              "      <td>23.882411</td>\n",
              "    </tr>\n",
              "    <tr>\n",
              "      <th>min</th>\n",
              "      <td>33.000000</td>\n",
              "      <td>219.000000</td>\n",
              "    </tr>\n",
              "    <tr>\n",
              "      <th>25%</th>\n",
              "      <td>38.375000</td>\n",
              "      <td>236.250000</td>\n",
              "    </tr>\n",
              "    <tr>\n",
              "      <th>50%</th>\n",
              "      <td>41.750000</td>\n",
              "      <td>253.500000</td>\n",
              "    </tr>\n",
              "    <tr>\n",
              "      <th>75%</th>\n",
              "      <td>45.125000</td>\n",
              "      <td>271.250000</td>\n",
              "    </tr>\n",
              "    <tr>\n",
              "      <th>max</th>\n",
              "      <td>48.500000</td>\n",
              "      <td>300.000000</td>\n",
              "    </tr>\n",
              "  </tbody>\n",
              "</table>\n",
              "</div>"
            ],
            "text/plain": [
              "        latitude   mortality\n",
              "count  24.000000   24.000000\n",
              "mean   41.458333  255.250000\n",
              "std     4.476792   23.882411\n",
              "min    33.000000  219.000000\n",
              "25%    38.375000  236.250000\n",
              "50%    41.750000  253.500000\n",
              "75%    45.125000  271.250000\n",
              "max    48.500000  300.000000"
            ]
          },
          "metadata": {
            "tags": []
          },
          "execution_count": 9
        }
      ]
    },
    {
      "cell_type": "code",
      "metadata": {
        "colab": {
          "base_uri": "https://localhost:8080/"
        },
        "id": "t1SdnQCLdw_L",
        "outputId": "db133ec0-66c8-45dc-c7e8-2612eba8b388"
      },
      "source": [
        "#2: Generate descriptive statistics for the data\n",
        "import numpy as np\n",
        "from scipy.stats import scoreatpercentile\n",
        "\n",
        "data = np.loadtxt(\"/content/lmdata.csv\", delimiter=',', usecols=(1,), skiprows=1, unpack=True)\n",
        "\n",
        "print (\"Max method\", data.max())\n",
        "print (\"Max function\", np.max(data))\n",
        "\n",
        "print (\"Min method\", data.min())\n",
        "print (\"Min function\", np.min(data))\n",
        "\n",
        "print (\"Mean method\", data.mean())\n",
        "print (\"Mean function\", np.mean(data))\n",
        "\n"
      ],
      "execution_count": 8,
      "outputs": [
        {
          "output_type": "stream",
          "text": [
            "Max method 300.0\n",
            "Max function 300.0\n",
            "Min method 219.0\n",
            "Min function 219.0\n",
            "Mean method 255.25\n",
            "Mean function 255.25\n"
          ],
          "name": "stdout"
        }
      ]
    }
  ]
}